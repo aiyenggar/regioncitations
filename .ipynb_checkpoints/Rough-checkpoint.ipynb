{
 "cells": [
  {
   "cell_type": "code",
   "execution_count": null,
   "metadata": {},
   "outputs": [],
   "source": [
    "\n",
    "import pandas as pd\n",
    "import bokeh as bokeh\n",
    "#from bokeh.charts import Scatter\n",
    "\n",
    "df = pd.read_excel(\"/Users/aiyenggar/data/tracxn/Geo India Company Details(Cleaned).xls\", sheet_name='Sheet1')\n",
    "print(df['CompanyName'])"
   ]
  },
  {
   "cell_type": "markdown",
   "metadata": {},
   "source": [
    "The fields are SNo\tCompanyName\tDomainName\tOverview\tBusinessModel\tYear\tMobileDownloads\tDescription\tAcquiredBy\tCompanyStatus\tCompanyStatusDetails\tUnicornFlag\tFoundersInfo\tEmails\tCity\tstate\tCountry\tTotalFunding\tInvestors\tLatestFundedDate\tLatestFundedAmount\tNumberofRounds\tWebTrafficRank\tTwitterFollowers\tEditorsRating\tLinkedIn\tTwitter\tFacebook\tTotalFundingUSD\tLatestFundedAmountUSD\tWebTrafficRankNum\tTwitterFollowersNum\tIPOAmountUSD\tAcquiredAmountUSD\tMonthGrowthinNumberofMobil\tAJ\tAK\tMonthGrowthinTwitterFollowe\tAM\tAN\tDomainType\tIndustry"
   ]
  },
  {
   "cell_type": "code",
   "execution_count": 1,
   "metadata": {},
   "outputs": [
    {
     "name": "stderr",
     "output_type": "stream",
     "text": [
      "/Applications/anaconda/lib/python3.5/site-packages/ipykernel/__main__.py:8: DeprecationWarning: Collection.__next__() is buggy and will be removed in Fiona 2.0. Switch to `next(iter(collection))`.\n"
     ]
    },
    {
     "ename": "AttributeError",
     "evalue": "module 'shapely' has no attribute 'geometry'",
     "output_type": "error",
     "traceback": [
      "\u001b[0;31m---------------------------------------------------------------------------\u001b[0m",
      "\u001b[0;31mAttributeError\u001b[0m                            Traceback (most recent call last)",
      "\u001b[0;32m<ipython-input-1-de4236ded5ec>\u001b[0m in \u001b[0;36m<module>\u001b[0;34m()\u001b[0m\n\u001b[1;32m      9\u001b[0m \u001b[0;34m\u001b[0m\u001b[0m\n\u001b[1;32m     10\u001b[0m     \u001b[0;31m# Use Shapely to create the polygon\u001b[0m\u001b[0;34m\u001b[0m\u001b[0;34m\u001b[0m\u001b[0m\n\u001b[0;32m---> 11\u001b[0;31m     \u001b[0mshape\u001b[0m \u001b[0;34m=\u001b[0m \u001b[0mshapely\u001b[0m\u001b[0;34m.\u001b[0m\u001b[0mgeometry\u001b[0m\u001b[0;34m.\u001b[0m\u001b[0masShape\u001b[0m\u001b[0;34m(\u001b[0m \u001b[0mshapefile_record\u001b[0m\u001b[0;34m[\u001b[0m\u001b[0;34m'geometry'\u001b[0m\u001b[0;34m]\u001b[0m \u001b[0;34m)\u001b[0m\u001b[0;34m\u001b[0m\u001b[0m\n\u001b[0m\u001b[1;32m     12\u001b[0m \u001b[0;34m\u001b[0m\u001b[0m\n\u001b[1;32m     13\u001b[0m     \u001b[0mpoint\u001b[0m \u001b[0;34m=\u001b[0m \u001b[0mshapely\u001b[0m\u001b[0;34m.\u001b[0m\u001b[0mgeometry\u001b[0m\u001b[0;34m.\u001b[0m\u001b[0mPoint\u001b[0m\u001b[0;34m(\u001b[0m\u001b[0;36m32.398516\u001b[0m\u001b[0;34m,\u001b[0m \u001b[0;34m-\u001b[0m\u001b[0;36m39.754028\u001b[0m\u001b[0;34m)\u001b[0m \u001b[0;31m# longitude, latitude\u001b[0m\u001b[0;34m\u001b[0m\u001b[0m\n",
      "\u001b[0;31mAttributeError\u001b[0m: module 'shapely' has no attribute 'geometry'"
     ]
    }
   ],
   "source": [
    "import fiona\n",
    "import shapely\n",
    "\n",
    "with fiona.open(\"/Users/aiyenggar/data/4.0.0-urban-areas/ne_10m_urban_areas_landscan.shp\") as fiona_collection:\n",
    "\n",
    "    # In this case, we'll assume the shapefile only has one record/layer (e.g., the shapefile\n",
    "    # is just for the borders of a single country, etc.).\n",
    "    shapefile_record = next(fiona_collection)\n",
    "\n",
    "    # Use Shapely to create the polygon\n",
    "    shape = shapely.geometry.asShape( shapefile_record['geometry'] )\n",
    "\n",
    "    point = shapely.geometry.Point(32.398516, -39.754028) # longitude, latitude\n",
    "\n",
    "    # Alternative: if point.within(shape)\n",
    "    if shape.contains(point):\n",
    "        print(\"Found shape for point \" + point)"
   ]
  },
  {
   "cell_type": "code",
   "execution_count": 3,
   "metadata": {},
   "outputs": [
    {
     "ename": "TypeError",
     "evalue": "'int' object is not iterable",
     "output_type": "error",
     "traceback": [
      "\u001b[0;31m---------------------------------------------------------------------------\u001b[0m",
      "\u001b[0;31mTypeError\u001b[0m                                 Traceback (most recent call last)",
      "\u001b[0;32m<ipython-input-3-3a6da2b996e1>\u001b[0m in \u001b[0;36m<module>\u001b[0;34m()\u001b[0m\n\u001b[1;32m      8\u001b[0m \u001b[0mall_shapes\u001b[0m \u001b[0;34m=\u001b[0m \u001b[0mshp\u001b[0m\u001b[0;34m.\u001b[0m\u001b[0mshapes\u001b[0m\u001b[0;34m(\u001b[0m\u001b[0;34m)\u001b[0m \u001b[0;31m# get all the polygons\u001b[0m\u001b[0;34m\u001b[0m\u001b[0m\n\u001b[1;32m      9\u001b[0m \u001b[0mall_records\u001b[0m \u001b[0;34m=\u001b[0m \u001b[0mshp\u001b[0m\u001b[0;34m.\u001b[0m\u001b[0mrecords\u001b[0m\u001b[0;34m(\u001b[0m\u001b[0;34m)\u001b[0m\u001b[0;34m\u001b[0m\u001b[0m\n\u001b[0;32m---> 10\u001b[0;31m \u001b[0;32mfor\u001b[0m \u001b[0mi\u001b[0m \u001b[0;32min\u001b[0m \u001b[0mlen\u001b[0m\u001b[0;34m(\u001b[0m\u001b[0mall_shapes\u001b[0m\u001b[0;34m)\u001b[0m\u001b[0;34m:\u001b[0m\u001b[0;34m\u001b[0m\u001b[0m\n\u001b[0m\u001b[1;32m     11\u001b[0m     \u001b[0mboundary\u001b[0m \u001b[0;34m=\u001b[0m \u001b[0mall_shapes\u001b[0m\u001b[0;34m[\u001b[0m\u001b[0mi\u001b[0m\u001b[0;34m]\u001b[0m \u001b[0;31m# get a boundary polygon\u001b[0m\u001b[0;34m\u001b[0m\u001b[0m\n\u001b[1;32m     12\u001b[0m     \u001b[0;32mif\u001b[0m \u001b[0mPoint\u001b[0m\u001b[0;34m(\u001b[0m\u001b[0mpoint\u001b[0m\u001b[0;34m)\u001b[0m\u001b[0;34m.\u001b[0m\u001b[0mwithin\u001b[0m\u001b[0;34m(\u001b[0m\u001b[0mshape\u001b[0m\u001b[0;34m(\u001b[0m\u001b[0mboundary\u001b[0m\u001b[0;34m)\u001b[0m\u001b[0;34m)\u001b[0m\u001b[0;34m:\u001b[0m \u001b[0;31m# make a point and see if it's in the polygon\u001b[0m\u001b[0;34m\u001b[0m\u001b[0m\n",
      "\u001b[0;31mTypeError\u001b[0m: 'int' object is not iterable"
     ]
    }
   ],
   "source": [
    "import shapefile\n",
    "import shapely\n",
    "from shapely.geometry import Point # Point class\n",
    "from shapely.geometry import shape # shape() is a function to convert geo objects through the interface\n",
    "\n",
    "point = (38.8338889,-104.8208333) # an x,y tuple\n",
    "shp = shapefile.Reader('/Users/aiyenggar/data/4.0.0-urban-areas/ne_10m_urban_areas_landscan.shp') #open the shapefile\n",
    "all_shapes = shp.shapes() # get all the polygons\n",
    "all_records = shp.records()\n",
    "for i in range(len(all_shapes)):\n",
    "    boundary = all_shapes[i] # get a boundary polygon\n",
    "    if Point(point).within(shape(boundary)): # make a point and see if it's in the polygon\n",
    "       name = all_records[i][2] # get the second field of the corresponding record\n",
    "       print(\"The point is in \" + name)"
   ]
  },
  {
   "cell_type": "code",
   "execution_count": 2,
   "metadata": {},
   "outputs": [
    {
     "data": {
      "text/plain": [
       "['',\n",
       " '/Applications/anaconda/lib/python35.zip',\n",
       " '/Applications/anaconda/lib/python3.5',\n",
       " '/Applications/anaconda/lib/python3.5/plat-darwin',\n",
       " '/Applications/anaconda/lib/python3.5/lib-dynload',\n",
       " '/Applications/anaconda/lib/python3.5/site-packages',\n",
       " '/Applications/anaconda/lib/python3.5/site-packages/aeosa',\n",
       " '/Applications/anaconda/lib/python3.5/site-packages/IPython/extensions',\n",
       " '/Users/aiyenggar/.ipython']"
      ]
     },
     "execution_count": 2,
     "metadata": {},
     "output_type": "execute_result"
    }
   ],
   "source": [
    "import sys\n",
    "sys.path"
   ]
  },
  {
   "cell_type": "code",
   "execution_count": null,
   "metadata": {},
   "outputs": [],
   "source": []
  }
 ],
 "metadata": {
  "kernelspec": {
   "display_name": "Python [default]",
   "language": "python",
   "name": "python3"
  },
  "language_info": {
   "codemirror_mode": {
    "name": "ipython",
    "version": 3
   },
   "file_extension": ".py",
   "mimetype": "text/x-python",
   "name": "python",
   "nbconvert_exporter": "python",
   "pygments_lexer": "ipython3",
   "version": "3.5.5"
  }
 },
 "nbformat": 4,
 "nbformat_minor": 2
}
